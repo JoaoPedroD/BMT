{
 "cells": [
  {
   "cell_type": "code",
   "execution_count": 1,
   "metadata": {},
   "outputs": [],
   "source": [
    "from xml.dom import minidom\n",
    "import xml.sax as sax"
   ]
  },
  {
   "cell_type": "code",
   "execution_count": 2,
   "metadata": {},
   "outputs": [],
   "source": [
    "doc = minidom.parse(\"./data/cf79.xml\")"
   ]
  },
  {
   "cell_type": "code",
   "execution_count": 3,
   "metadata": {},
   "outputs": [],
   "source": [
    "authors_2 = doc.getElementsByTagName(\"AUTHOR\")"
   ]
  },
  {
   "cell_type": "code",
   "execution_count": 4,
   "metadata": {},
   "outputs": [],
   "source": [
    "autores_2 = []\n",
    "for author in authors_2:\n",
    "    for i in author.childNodes:\n",
    "        autores_2.append(i.data)"
   ]
  },
  {
   "cell_type": "code",
   "execution_count": 5,
   "metadata": {},
   "outputs": [],
   "source": [
    "doc_autores = minidom.Document()\n",
    "data = doc_autores.createElement('data')\n",
    "doc_autores.appendChild(data)\n",
    "f = open('autores.xml', 'w')\n",
    "for i in range(0, len(autores_2)):\n",
    "    name = doc_autores.createElement('AUTHOR')\n",
    "    text = doc_autores.createTextNode(autores_2[i])\n",
    "    name.appendChild(text)\n",
    "    data.appendChild(name)\n",
    "doc_autores.writexml(f, addindent='   ', newl='\\n')\n",
    "f.close()"
   ]
  },
  {
   "cell_type": "code",
   "execution_count": 6,
   "metadata": {},
   "outputs": [],
   "source": [
    "titulos = []\n",
    "class TitleHandler( sax.ContentHandler ):\n",
    "    def __init__(self):\n",
    "        self.CurrentData = \"\"\n",
    "        self.content = \"\"\n",
    "        self.output = \"<?xml version=\\\"1.0\\\" ?>\\n<data>\\n\"\n",
    "        self.f = open(\"./titulo.xml\", \"w\")\n",
    "\n",
    "    def startElement(self, tag, attributes):\n",
    "        self.CurrentData = tag\n",
    "\n",
    "    def endElement(self, tag):\n",
    "        if self.CurrentData == \"TITLE\":\n",
    "            titulos.append(self.content)\n",
    "            self.output += f\"\\t<TITLE>{self.content}</TITLE>\\n\"\n",
    "        self.content = \"\"\n",
    "        self.CurrentData = \"\"\n",
    "\n",
    "    def characters(self, content):\n",
    "        if self.CurrentData == \"TITLE\":\n",
    "            self.content += content\n",
    "    def endDocument(self):\n",
    "        self.output += f\"</data>\"\n",
    "        self.f.write(self.output)\n",
    "        self.f.close()\n",
    "        "
   ]
  },
  {
   "cell_type": "code",
   "execution_count": 7,
   "metadata": {},
   "outputs": [],
   "source": [
    "sax_xml = sax.parse(\"./data/cf79.xml\", TitleHandler())"
   ]
  },
  {
   "cell_type": "code",
   "execution_count": null,
   "metadata": {},
   "outputs": [],
   "source": []
  }
 ],
 "metadata": {
  "kernelspec": {
   "display_name": "Python 3",
   "language": "python",
   "name": "python3"
  },
  "language_info": {
   "codemirror_mode": {
    "name": "ipython",
    "version": 3
   },
   "file_extension": ".py",
   "mimetype": "text/x-python",
   "name": "python",
   "nbconvert_exporter": "python",
   "pygments_lexer": "ipython3",
   "version": "3.8.5"
  }
 },
 "nbformat": 4,
 "nbformat_minor": 4
}
